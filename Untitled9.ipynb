{
  "nbformat": 4,
  "nbformat_minor": 0,
  "metadata": {
    "colab": {
      "provenance": [],
      "authorship_tag": "ABX9TyOuf8WR/jQsB/p0wlqMZoGq",
      "include_colab_link": true
    },
    "kernelspec": {
      "name": "python3",
      "display_name": "Python 3"
    },
    "language_info": {
      "name": "python"
    }
  },
  "cells": [
    {
      "cell_type": "markdown",
      "metadata": {
        "id": "view-in-github",
        "colab_type": "text"
      },
      "source": [
        "<a href=\"https://colab.research.google.com/github/mehrishka177/Codingal--Poopypoop177/blob/main/Untitled9.ipynb\" target=\"_parent\"><img src=\"https://colab.research.google.com/assets/colab-badge.svg\" alt=\"Open In Colab\"/></a>"
      ]
    },
    {
      "cell_type": "code",
      "execution_count": null,
      "metadata": {
        "id": "IRpwKa-rXl4q"
      },
      "outputs": [],
      "source": [
        "-- Create tables for employees, departments, and salaries\n",
        "CREATE TABLE departments (\n",
        "    department_id INT PRIMARY KEY,\n",
        "    department_name VARCHAR(100)\n",
        ");\n",
        "\n",
        "CREATE TABLE employees (\n",
        "    employee_id INT PRIMARY KEY,\n",
        "    employee_name VARCHAR(100),\n",
        "    department_id INT,\n",
        "    salary INT,\n",
        "    FOREIGN KEY (department_id) REFERENCES departments(department_id)\n",
        ");\n",
        "\n",
        "CREATE TABLE salaries (\n",
        "    employee_id INT,\n",
        "    salary_amount INT,\n",
        "    FOREIGN KEY (employee_id) REFERENCES employees(employee_id)\n",
        ");\n",
        "\n",
        "-- Insert sample data into the departments table\n",
        "INSERT INTO departments (department_id, department_name)\n",
        "VALUES\n",
        "    (1, 'Sales'),\n",
        "    (2, 'Marketing'),\n",
        "    (3, 'HR');\n",
        "\n",
        "-- Insert sample data into the employees table\n",
        "INSERT INTO employees (employee_id, employee_name, department_id, salary)\n",
        "VALUES\n",
        "    (1, 'John Doe', 1, 50000),\n",
        "    (2, 'Jane Smith', 1, 60000),\n",
        "    (3, 'Sam Green', 2, 55000),\n",
        "    (4, 'Alex Brown', 2, 70000),\n",
        "    (5, 'Emily White', 3, 65000);\n",
        "\n",
        "-- Insert sample data into the salaries table\n",
        "INSERT INTO salaries (employee_id, salary_amount)\n",
        "VALUES\n",
        "    (1, 50000),\n",
        "    (2, 60000),\n",
        "    (3, 55000),\n",
        "    (4, 70000),\n",
        "    (5, 65000);\n",
        "\n",
        "-- Query to find employees who earn more than the average salary in their department\n",
        "SELECT e.employee_id, e.employee_name, e.salary, d.department_name\n",
        "FROM employees e\n",
        "JOIN departments d ON e.department_id = d.department_id\n",
        "WHERE e.salary > (\n",
        "    -- Subquery to calculate the average salary in each department\n",
        "    SELECT AVG(s.salary_amount)\n",
        "    FROM salaries s\n",
        "    WHERE s.employee_id = e.employee_id\n",
        "    GROUP BY e.department_id\n",
        ")\n",
        "ORDER BY d.department_name, e.salary DESC;\n"
      ]
    }
  ]
}